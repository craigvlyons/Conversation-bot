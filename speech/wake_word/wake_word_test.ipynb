{
 "cells": [
  {
   "cell_type": "markdown",
   "id": "3155e728",
   "metadata": {},
   "source": [
    "in terminal run \n",
    "\n",
    "pip install porcupine_demo_mic\n",
    "\n",
    "then run the command with your access token to see if everything works. \n",
    "\n",
    "porcupine_demo_mic --access_key \" your key here \" --keywords porcupine"
   ]
  }
 ],
 "metadata": {
  "kernelspec": {
   "display_name": "venv",
   "language": "python",
   "name": "python3"
  },
  "language_info": {
   "codemirror_mode": {
    "name": "ipython",
    "version": 3
   },
   "file_extension": ".py",
   "mimetype": "text/x-python",
   "name": "python",
   "nbconvert_exporter": "python",
   "pygments_lexer": "ipython3",
   "version": "3.9.12"
  }
 },
 "nbformat": 4,
 "nbformat_minor": 5
}
