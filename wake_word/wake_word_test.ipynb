{
 "cells": [
  {
   "cell_type": "code",
   "execution_count": 14,
   "id": "dfcc18e4",
   "metadata": {},
   "outputs": [
    {
     "name": "stdout",
     "output_type": "stream",
     "text": [
      "Found keyword file: C:/convo_bot/wake_word/jarvis/Jarvis_en_windows_v3_0_0.ppn\n",
      "File size: 3668 bytes\n"
     ]
    }
   ],
   "source": [
    "import os\n",
    "\n",
    "path = \"C:/convo_bot/wake_word/jarvis/Jarvis_en_windows_v3_0_0.ppn\"\n",
    "if not os.path.isfile(path):\n",
    "    print(\"Keyword file not found.\")\n",
    "else:\n",
    "    print(f\"Found keyword file: {path}\")\n",
    "    print(f\"File size: {os.path.getsize(path)} bytes\")\n"
   ]
  },
  {
   "cell_type": "code",
   "execution_count": 10,
   "id": "7b3f25bf",
   "metadata": {},
   "outputs": [],
   "source": [
    "# Install dependencies (Uncomment if running in a fresh environment)\n",
    "# !pip install pvporcupine pvrecorder\n",
    "\n",
    "import pvporcupine\n",
    "from pvrecorder import PvRecorder\n",
    "\n",
    "class WakeWordDetector:\n",
    "    def __init__(self, access_key, sensitivities=None, device_index=-1):\n",
    "        self.access_key = access_key\n",
    "        self.keyword_paths = [\"C:/convo_bot/wake_word/Hey-Gary/Hey-Gary_en_windows_v3_0_0.ppn\",\"C:/convo_bot/wake_word/jarvis/Jarvis_en_windows_v3_0_0.ppn\"]  # Modify as needed\n",
    "        self.sensitivities = sensitivities or [0.5] * len(self.keyword_paths)\n",
    "        self.device_index = device_index\n",
    "        self.porcupine = None\n",
    "        self.recorder = None\n",
    "        print(f\"ACCESS_KEY: {self.access_key}\")\n",
    "\n",
    "    def initialize(self):\n",
    "        print(f\"Initializing Porcupine with:\")\n",
    "        print(f\"  Access Key: {self.access_key}\")\n",
    "        print(f\"  Keyword Paths: {self.keyword_paths}\")\n",
    "        for path in self.keyword_paths:\n",
    "            print(f\"    Exists: {os.path.exists(path)} | Size: {os.path.getsize(path) if os.path.exists(path) else 'N/A'} bytes\")\n",
    "        print(f\"  Sensitivities: {self.sensitivities}\")\n",
    "        try:\n",
    "            self.porcupine = pvporcupine.create(\n",
    "                access_key=self.access_key,\n",
    "                keyword_paths=self.keyword_paths,\n",
    "                sensitivities=self.sensitivities\n",
    "            )\n",
    "            print(\"Porcupine initialized successfully.\")\n",
    "        except Exception as e:\n",
    "            print(f\"Failed to initialize Porcupine: {e}\")\n",
    "            print(\"Troubleshooting tips:\")\n",
    "            print(\"- Is your access key valid and not expired?\")\n",
    "            print(\"- Does your .ppn file exist and is it for the correct platform/language?\")\n",
    "            print(\"- Is your Porcupine version compatible with your .ppn file?\")\n",
    "            raise\n",
    "        self.recorder = PvRecorder(device_index=self.device_index, frame_length=self.porcupine.frame_length)\n",
    "        print(\"Initialized Porcupine and Recorder.\")\n",
    "\n",
    "    def listen(self, callback):\n",
    "        if not self.porcupine or not self.recorder:\n",
    "            raise RuntimeError(\"Call 'initialize()' first.\")\n",
    "\n",
    "        try:\n",
    "            print(\"Listening for the wake word... (Press Ctrl+C to stop)\")\n",
    "            self.recorder.start()\n",
    "\n",
    "            while True:\n",
    "                pcm = self.recorder.read()\n",
    "                keyword_index = self.porcupine.process(pcm)\n",
    "                if keyword_index >= 0:\n",
    "                    callback()\n",
    "        except KeyboardInterrupt:\n",
    "            print(\"\\nStopped by user.\")\n",
    "        except Exception as e:\n",
    "            print(f\"An error occurred: {e}\")\n",
    "        finally:\n",
    "            self.cleanup()\n",
    "\n",
    "    def cleanup(self):\n",
    "        if self.recorder:\n",
    "            self.recorder.stop()\n",
    "            self.recorder.delete()\n",
    "        if self.porcupine:\n",
    "            self.porcupine.delete()\n",
    "        print(\"Cleaned up resources.\")\n"
   ]
  },
  {
   "cell_type": "code",
   "execution_count": null,
   "id": "14790f82",
   "metadata": {},
   "outputs": [
    {
     "name": "stdout",
     "output_type": "stream",
     "text": [
      "Cleaned up resources.\n",
      "ACCESS_KEY: 9QQ5PWfkw7i2DHZrdr1MOFVoKssHNBofJbBlG1rAKcffbIOlzDj96g==\n",
      "Initializing Porcupine with:\n",
      "  Access Key: 9QQ5PWfkw7i2DHZrdr1MOFVoKssHNBofJbBlG1rAKcffbIOlzDj96g==\n",
      "  Keyword Paths: ['C:/convo_bot/wake_word/Hey-Gary/Hey-Gary_en_windows_v3_0_0.ppn', 'C:/convo_bot/wake_word/jarvis/Jarvis_en_windows_v3_0_0.ppn']\n",
      "    Exists: True | Size: 3736 bytes\n",
      "    Exists: True | Size: 3668 bytes\n",
      "  Sensitivities: [0.5, 0.5]\n",
      "Failed to initialize Porcupine: Initialization failed:\n",
      "  [0] Picovoice Error (code `00000136`)\n",
      "  [1] Picovoice Error (code `00000136`)\n",
      "  [2] Picovoice Error (code `00000136`)\n",
      "Troubleshooting tips:\n",
      "- Is your access key valid and not expired?\n",
      "- Does your .ppn file exist and is it for the correct platform/language?\n",
      "- Is your Porcupine version compatible with your .ppn file?\n"
     ]
    },
    {
     "ename": "PorcupineActivationLimitError",
     "evalue": "Initialization failed:\n  [0] Picovoice Error (code `00000136`)\n  [1] Picovoice Error (code `00000136`)\n  [2] Picovoice Error (code `00000136`)",
     "output_type": "error",
     "traceback": [
      "\u001b[1;31m---------------------------------------------------------------------------\u001b[0m",
      "\u001b[1;31mPorcupineActivationLimitError\u001b[0m             Traceback (most recent call last)",
      "Cell \u001b[1;32mIn[11], line 14\u001b[0m\n\u001b[0;32m     11\u001b[0m     \u001b[38;5;28;01mpass\u001b[39;00m\n\u001b[0;32m     13\u001b[0m detector \u001b[38;5;241m=\u001b[39m WakeWordDetector(access_key\u001b[38;5;241m=\u001b[39mACCESS_KEY)\n\u001b[1;32m---> 14\u001b[0m \u001b[43mdetector\u001b[49m\u001b[38;5;241;43m.\u001b[39;49m\u001b[43minitialize\u001b[49m\u001b[43m(\u001b[49m\u001b[43m)\u001b[49m\n\u001b[0;32m     16\u001b[0m \u001b[38;5;66;03m# Start listening in a blocking way (stop with Ctrl+C)\u001b[39;00m\n\u001b[0;32m     17\u001b[0m detector\u001b[38;5;241m.\u001b[39mlisten(callback\u001b[38;5;241m=\u001b[39mon_wake_word_detected)\n",
      "Cell \u001b[1;32mIn[10], line 25\u001b[0m, in \u001b[0;36mWakeWordDetector.initialize\u001b[1;34m(self)\u001b[0m\n\u001b[0;32m     23\u001b[0m \u001b[38;5;28mprint\u001b[39m(\u001b[38;5;124mf\u001b[39m\u001b[38;5;124m\"\u001b[39m\u001b[38;5;124m  Sensitivities: \u001b[39m\u001b[38;5;132;01m{\u001b[39;00m\u001b[38;5;28mself\u001b[39m\u001b[38;5;241m.\u001b[39msensitivities\u001b[38;5;132;01m}\u001b[39;00m\u001b[38;5;124m\"\u001b[39m)\n\u001b[0;32m     24\u001b[0m \u001b[38;5;28;01mtry\u001b[39;00m:\n\u001b[1;32m---> 25\u001b[0m     \u001b[38;5;28mself\u001b[39m\u001b[38;5;241m.\u001b[39mporcupine \u001b[38;5;241m=\u001b[39m \u001b[43mpvporcupine\u001b[49m\u001b[38;5;241;43m.\u001b[39;49m\u001b[43mcreate\u001b[49m\u001b[43m(\u001b[49m\n\u001b[0;32m     26\u001b[0m \u001b[43m        \u001b[49m\u001b[43maccess_key\u001b[49m\u001b[38;5;241;43m=\u001b[39;49m\u001b[38;5;28;43mself\u001b[39;49m\u001b[38;5;241;43m.\u001b[39;49m\u001b[43maccess_key\u001b[49m\u001b[43m,\u001b[49m\n\u001b[0;32m     27\u001b[0m \u001b[43m        \u001b[49m\u001b[43mkeyword_paths\u001b[49m\u001b[38;5;241;43m=\u001b[39;49m\u001b[38;5;28;43mself\u001b[39;49m\u001b[38;5;241;43m.\u001b[39;49m\u001b[43mkeyword_paths\u001b[49m\u001b[43m,\u001b[49m\n\u001b[0;32m     28\u001b[0m \u001b[43m        \u001b[49m\u001b[43msensitivities\u001b[49m\u001b[38;5;241;43m=\u001b[39;49m\u001b[38;5;28;43mself\u001b[39;49m\u001b[38;5;241;43m.\u001b[39;49m\u001b[43msensitivities\u001b[49m\n\u001b[0;32m     29\u001b[0m \u001b[43m    \u001b[49m\u001b[43m)\u001b[49m\n\u001b[0;32m     30\u001b[0m     \u001b[38;5;28mprint\u001b[39m(\u001b[38;5;124m\"\u001b[39m\u001b[38;5;124mPorcupine initialized successfully.\u001b[39m\u001b[38;5;124m\"\u001b[39m)\n\u001b[0;32m     31\u001b[0m \u001b[38;5;28;01mexcept\u001b[39;00m \u001b[38;5;167;01mException\u001b[39;00m \u001b[38;5;28;01mas\u001b[39;00m e:\n",
      "File \u001b[1;32mc:\\convo_bot\\venv\\lib\\site-packages\\pvporcupine\\_factory.py:69\u001b[0m, in \u001b[0;36mcreate\u001b[1;34m(access_key, library_path, model_path, keyword_paths, keywords, sensitivities)\u001b[0m\n\u001b[0;32m     66\u001b[0m \u001b[38;5;28;01mif\u001b[39;00m \u001b[38;5;28mlen\u001b[39m(sensitivities) \u001b[38;5;241m!=\u001b[39m \u001b[38;5;28mlen\u001b[39m(keyword_paths):\n\u001b[0;32m     67\u001b[0m     \u001b[38;5;28;01mraise\u001b[39;00m \u001b[38;5;167;01mValueError\u001b[39;00m(\u001b[38;5;124m\"\u001b[39m\u001b[38;5;124mNumber of keywords does not match the number of sensitivities.\u001b[39m\u001b[38;5;124m\"\u001b[39m)\n\u001b[1;32m---> 69\u001b[0m \u001b[38;5;28;01mreturn\u001b[39;00m \u001b[43mPorcupine\u001b[49m\u001b[43m(\u001b[49m\n\u001b[0;32m     70\u001b[0m \u001b[43m    \u001b[49m\u001b[43maccess_key\u001b[49m\u001b[38;5;241;43m=\u001b[39;49m\u001b[43maccess_key\u001b[49m\u001b[43m,\u001b[49m\n\u001b[0;32m     71\u001b[0m \u001b[43m    \u001b[49m\u001b[43mlibrary_path\u001b[49m\u001b[38;5;241;43m=\u001b[39;49m\u001b[43mlibrary_path\u001b[49m\u001b[43m,\u001b[49m\n\u001b[0;32m     72\u001b[0m \u001b[43m    \u001b[49m\u001b[43mmodel_path\u001b[49m\u001b[38;5;241;43m=\u001b[39;49m\u001b[43mmodel_path\u001b[49m\u001b[43m,\u001b[49m\n\u001b[0;32m     73\u001b[0m \u001b[43m    \u001b[49m\u001b[43mkeyword_paths\u001b[49m\u001b[38;5;241;43m=\u001b[39;49m\u001b[43mkeyword_paths\u001b[49m\u001b[43m,\u001b[49m\n\u001b[0;32m     74\u001b[0m \u001b[43m    \u001b[49m\u001b[43msensitivities\u001b[49m\u001b[38;5;241;43m=\u001b[39;49m\u001b[43msensitivities\u001b[49m\u001b[43m)\u001b[49m\n",
      "File \u001b[1;32mc:\\convo_bot\\venv\\lib\\site-packages\\pvporcupine\\_porcupine.py:198\u001b[0m, in \u001b[0;36mPorcupine.__init__\u001b[1;34m(self, access_key, library_path, model_path, keyword_paths, sensitivities)\u001b[0m\n\u001b[0;32m    190\u001b[0m status \u001b[38;5;241m=\u001b[39m init_func(\n\u001b[0;32m    191\u001b[0m     access_key\u001b[38;5;241m.\u001b[39mencode(\u001b[38;5;124m'\u001b[39m\u001b[38;5;124mutf-8\u001b[39m\u001b[38;5;124m'\u001b[39m),\n\u001b[0;32m    192\u001b[0m     model_path\u001b[38;5;241m.\u001b[39mencode(\u001b[38;5;124m'\u001b[39m\u001b[38;5;124mutf-8\u001b[39m\u001b[38;5;124m'\u001b[39m),\n\u001b[1;32m   (...)\u001b[0m\n\u001b[0;32m    195\u001b[0m     (c_float \u001b[38;5;241m*\u001b[39m \u001b[38;5;28mlen\u001b[39m(keyword_paths))(\u001b[38;5;241m*\u001b[39msensitivities),\n\u001b[0;32m    196\u001b[0m     byref(\u001b[38;5;28mself\u001b[39m\u001b[38;5;241m.\u001b[39m_handle))\n\u001b[0;32m    197\u001b[0m \u001b[38;5;28;01mif\u001b[39;00m status \u001b[38;5;129;01mis\u001b[39;00m \u001b[38;5;129;01mnot\u001b[39;00m \u001b[38;5;28mself\u001b[39m\u001b[38;5;241m.\u001b[39mPicovoiceStatuses\u001b[38;5;241m.\u001b[39mSUCCESS:\n\u001b[1;32m--> 198\u001b[0m     \u001b[38;5;28;01mraise\u001b[39;00m \u001b[38;5;28mself\u001b[39m\u001b[38;5;241m.\u001b[39m_PICOVOICE_STATUS_TO_EXCEPTION[status](\n\u001b[0;32m    199\u001b[0m         message\u001b[38;5;241m=\u001b[39m\u001b[38;5;124m'\u001b[39m\u001b[38;5;124mInitialization failed\u001b[39m\u001b[38;5;124m'\u001b[39m,\n\u001b[0;32m    200\u001b[0m         message_stack\u001b[38;5;241m=\u001b[39m\u001b[38;5;28mself\u001b[39m\u001b[38;5;241m.\u001b[39m_get_error_stack())\n\u001b[0;32m    202\u001b[0m \u001b[38;5;28mself\u001b[39m\u001b[38;5;241m.\u001b[39m_delete_func \u001b[38;5;241m=\u001b[39m library\u001b[38;5;241m.\u001b[39mpv_porcupine_delete\n\u001b[0;32m    203\u001b[0m \u001b[38;5;28mself\u001b[39m\u001b[38;5;241m.\u001b[39m_delete_func\u001b[38;5;241m.\u001b[39margtypes \u001b[38;5;241m=\u001b[39m [POINTER(\u001b[38;5;28mself\u001b[39m\u001b[38;5;241m.\u001b[39mCPorcupine)]\n",
      "\u001b[1;31mPorcupineActivationLimitError\u001b[0m: Initialization failed:\n  [0] Picovoice Error (code `00000136`)\n  [1] Picovoice Error (code `00000136`)\n  [2] Picovoice Error (code `00000136`)"
     ]
    }
   ],
   "source": [
    "def on_wake_word_detected():\n",
    "    print(\"🔊 Wake word detected!\")\n",
    "\n",
    "ACCESS_KEY = \"\"\n",
    "# ACCESS_KEY = \"\"   # Replace with your actual access key\n",
    "\n",
    "# Clean up any previous detector if it exists\n",
    "try:\n",
    "    detector.cleanup()\n",
    "except Exception:\n",
    "    pass\n",
    "\n",
    "detector = WakeWordDetector(access_key=ACCESS_KEY)\n",
    "detector.initialize()\n",
    "\n",
    "# Start listening in a blocking way (stop with Ctrl+C)\n",
    "detector.listen(callback=on_wake_word_detected)\n"
   ]
  },
  {
   "cell_type": "code",
   "execution_count": 9,
   "id": "cd1d24e1",
   "metadata": {},
   "outputs": [],
   "source": [
    "def initialize(self):\n",
    "    print(f\"Initializing Porcupine with:\")\n",
    "    print(f\"  Access Key: {self.access_key}\")\n",
    "    print(f\"  Keyword Paths: {self.keyword_paths}\")\n",
    "    for path in self.keyword_paths:\n",
    "        print(f\"    Exists: {os.path.exists(path)} | Size: {os.path.getsize(path) if os.path.exists(path) else 'N/A'} bytes\")\n",
    "    print(f\"  Sensitivities: {self.sensitivities}\")\n",
    "    try:\n",
    "        self.porcupine = pvporcupine.create(\n",
    "            access_key=self.access_key,\n",
    "            keyword_paths=self.keyword_paths,\n",
    "            sensitivities=self.sensitivities\n",
    "        )\n",
    "        print(\"Porcupine initialized successfully.\")\n",
    "    except Exception as e:\n",
    "        print(f\"Failed to initialize Porcupine: {e}\")\n",
    "        print(\"Troubleshooting tips:\")\n",
    "        print(\"- Is your access key valid and not expired?\")\n",
    "        print(\"- Does your .ppn file exist and is it for the correct platform/language?\")\n",
    "        print(\"- Is your Porcupine version compatible with your .ppn file?\")\n",
    "        raise\n",
    "    self.recorder = PvRecorder(device_index=self.device_index, frame_length=self.porcupine.frame_length)\n",
    "    print(\"Initialized Porcupine and Recorder.\")"
   ]
  },
  {
   "cell_type": "code",
   "execution_count": null,
   "id": "7d50e1de",
   "metadata": {},
   "outputs": [
    {
     "ename": "SyntaxError",
     "evalue": "invalid syntax (224849288.py, line 1)",
     "output_type": "error",
     "traceback": [
      "\u001b[1;36m  Cell \u001b[1;32mIn[13], line 1\u001b[1;36m\u001b[0m\n\u001b[1;33m    porcupine_demo_mic --access_key \"9QQ5PWfkw7i2DHZrdr1MOFVoKssHNBofJbBlG1rAKcffbIOlzDj96g==\" --keywords porcupine\u001b[0m\n\u001b[1;37m                                    ^\u001b[0m\n\u001b[1;31mSyntaxError\u001b[0m\u001b[1;31m:\u001b[0m invalid syntax\n"
     ]
    }
   ],
   "source": [
    "porcupine_demo_mic --access_key \"TKm+ZqKHPPvTz+V5HRTM4DtyhJS715WgRivHwGyrsumkqtYMk3cIbg==\" --keywords porcupine"
   ]
  }
 ],
 "metadata": {
  "kernelspec": {
   "display_name": "venv",
   "language": "python",
   "name": "python3"
  },
  "language_info": {
   "codemirror_mode": {
    "name": "ipython",
    "version": 3
   },
   "file_extension": ".py",
   "mimetype": "text/x-python",
   "name": "python",
   "nbconvert_exporter": "python",
   "pygments_lexer": "ipython3",
   "version": "3.9.12"
  }
 },
 "nbformat": 4,
 "nbformat_minor": 5
}
